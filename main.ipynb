{
 "cells": [
  {
   "cell_type": "code",
   "execution_count": 20,
   "metadata": {},
   "outputs": [
    {
     "name": "stdout",
     "output_type": "stream",
     "text": [
      "[5. 5. 5. 5. 5. 5. 5. 5. 5. 5.]\n",
      "[10 11 12 13 14 15 16 17 18 19 20 21 22 23 24 25 26 27 28 29 30 31 32 33\n",
      " 34 35 36 37 38 39 40 41 42 43 44 45 46 47 48 49]\n",
      "[10 12 14 16 18 20 22 24 26 28 30 32 34 36 38 40 42 44 46 48]\n"
     ]
    },
    {
     "name": "stderr",
     "output_type": "stream",
     "text": [
      "/var/folders/5f/khjzhr3d65x1lh4fkb60y8_h0000gn/T/ipykernel_18551/4261644682.py:3: VisibleDeprecationWarning: Creating an ndarray from ragged nested sequences (which is a list-or-tuple of lists-or-tuples-or ndarrays with different lengths or shapes) is deprecated. If you meant to do this, you must specify 'dtype=object' when creating the ndarray.\n",
      "  my_array = np.array([[1,2,3,4],[5,6,7]])\n"
     ]
    },
    {
     "ename": "ValueError",
     "evalue": "cannot reshape array of size 8 into shape (3,3)",
     "output_type": "error",
     "traceback": [
      "\u001b[0;31m---------------------------------------------------------------------------\u001b[0m",
      "\u001b[0;31mValueError\u001b[0m                                Traceback (most recent call last)",
      "Cell \u001b[0;32mIn[20], line 24\u001b[0m\n\u001b[1;32m     21\u001b[0m new_one \u001b[39m=\u001b[39m np\u001b[39m.\u001b[39marange(\u001b[39m10\u001b[39m,\u001b[39m50\u001b[39m,\u001b[39m2\u001b[39m)\n\u001b[1;32m     22\u001b[0m \u001b[39mprint\u001b[39m(new_one)\n\u001b[0;32m---> 24\u001b[0m one \u001b[39m=\u001b[39m np\u001b[39m.\u001b[39;49marange(\u001b[39m0\u001b[39;49m, \u001b[39m8\u001b[39;49m)\u001b[39m.\u001b[39;49mreshape(\u001b[39m3\u001b[39;49m,\u001b[39m3\u001b[39;49m)\n\u001b[1;32m     25\u001b[0m \u001b[39mprint\u001b[39m(one)\n",
      "\u001b[0;31mValueError\u001b[0m: cannot reshape array of size 8 into shape (3,3)"
     ]
    }
   ],
   "source": [
    "import numpy as np\n",
    "my = np.array([1,2,3,4])\n",
    "my_array = np.array([[1,2,3,4],[5,6,7]])\n",
    "\n",
    "'''\n",
    "print(my.ndim)\n",
    "print(my.shape)\n",
    "print(my_array.ndim)\n",
    "print(my_array.shape)\n",
    "#print(my.diagonal())\n",
    "'''\n",
    "\n",
    "# what is the difference beteen rint and around....\n",
    "\n",
    "array = np.ones(10)\n",
    "print(array*5)\n",
    "\n",
    "new = np.arange(10,50)\n",
    "print(new)\n",
    "\n",
    "new_one = np.arange(10,50,2)\n",
    "print(new_one)\n",
    "\n",
    "one = np.arange(0, 8).reshape(3,3)\n",
    "print(one)\n",
    "\n",
    "\n",
    "\n"
   ]
  }
 ],
 "metadata": {
  "kernelspec": {
   "display_name": "base",
   "language": "python",
   "name": "python3"
  },
  "language_info": {
   "codemirror_mode": {
    "name": "ipython",
    "version": 3
   },
   "file_extension": ".py",
   "mimetype": "text/x-python",
   "name": "python",
   "nbconvert_exporter": "python",
   "pygments_lexer": "ipython3",
   "version": "3.10.9"
  },
  "orig_nbformat": 4
 },
 "nbformat": 4,
 "nbformat_minor": 2
}
