{
 "cells": [
  {
   "cell_type": "code",
   "execution_count": 5,
   "id": "a3b09fbb",
   "metadata": {},
   "outputs": [
    {
     "name": "stdout",
     "output_type": "stream",
     "text": [
      "YES\n"
     ]
    }
   ],
   "source": [
    "#answer 14\n",
    "d1 = {'a': 100, 'b': 200, 'c': 300}\n",
    "a=0;\n",
    "for i in d1:\n",
    "    if d1[i]==200:\n",
    "        a=1\n",
    "        break\n",
    "if a==0:\n",
    "    print(\"NO\")\n",
    "else:\n",
    "    print(\"YES\")"
   ]
  },
  {
   "cell_type": "code",
   "execution_count": 9,
   "id": "89c46fbb",
   "metadata": {},
   "outputs": [
    {
     "name": "stdout",
     "output_type": "stream",
     "text": [
      "number of terms2\n",
      "24\n"
     ]
    }
   ],
   "source": [
    "#answer 15\n",
    "a=\"2\"\n",
    "n=int(input(\"number of terms\"))\n",
    "sm=0;\n",
    "for i in range(1,n+1):\n",
    "    element=\"2\"*i\n",
    "    sm=sm+int(element)\n",
    "print(sm)"
   ]
  },
  {
   "cell_type": "code",
   "execution_count": 10,
   "id": "43e59ab8",
   "metadata": {},
   "outputs": [
    {
     "name": "stdout",
     "output_type": "stream",
     "text": [
      "[5, 15, 25, 50]\n"
     ]
    }
   ],
   "source": [
    "#answer 13\n",
    "list1 = [5, 20, 15, 20, 25, 50, 20]\n",
    "for i in list1:\n",
    "    if i==20:\n",
    "        list1.remove(i)\n",
    "print(list1)"
   ]
  },
  {
   "cell_type": "code",
   "execution_count": 11,
   "id": "1f94f35e",
   "metadata": {},
   "outputs": [
    {
     "name": "stdout",
     "output_type": "stream",
     "text": [
      "[10, 20, [300, 400, [5000, 6000, 7000], 500], 30, 40]\n"
     ]
    }
   ],
   "source": [
    "#answer 12\n",
    "list1 = [10, 20, [300, 400, [5000, 6000], 500], 30, 40]\n",
    "list1[2][2].append(7000)\n",
    "print(list1)"
   ]
  },
  {
   "cell_type": "code",
   "execution_count": 12,
   "id": "f3ed845f",
   "metadata": {},
   "outputs": [
    {
     "name": "stdout",
     "output_type": "stream",
     "text": [
      "['Hello Dear', 'Hello Sir', 'take Dear', 'take Sir']\n"
     ]
    }
   ],
   "source": [
    "#answer 11\n",
    "list1 = [\"Hello \", \"take \"]\n",
    "list2 = [\"Dear\", \"Sir\"]\n",
    "ans=[]\n",
    "for i in list1:\n",
    "    for k in list2:\n",
    "        ans.append(i+k)\n",
    "print(ans)"
   ]
  },
  {
   "cell_type": "code",
   "execution_count": 14,
   "id": "33dc89c0",
   "metadata": {},
   "outputs": [
    {
     "name": "stdout",
     "output_type": "stream",
     "text": [
      "['My', 'name', 'is', 'Shelly']\n"
     ]
    }
   ],
   "source": [
    "#answer 10\n",
    "list1 = [\"M\", \"na\", \"i\", \"She\"]\n",
    "list2 = [\"y\", \"me\", \"s\", \"lly\"] \n",
    "ans=[]\n",
    "for i in range(0,4):\n",
    "    ans.append(list1[i]+list2[i])\n",
    "print(ans)"
   ]
  },
  {
   "cell_type": "code",
   "execution_count": 27,
   "id": "6f54a818",
   "metadata": {},
   "outputs": [
    {
     "name": "stdout",
     "output_type": "stream",
     "text": [
      "small challan\n"
     ]
    }
   ],
   "source": [
    "#answer 9\n",
    "def caught_speeding(speed,bday):\n",
    "    if bday:\n",
    "        n=5\n",
    "    else:\n",
    "        n=0\n",
    "    if speed<=60+n:\n",
    "        return \"No challan\"\n",
    "    elif speed>=61+n and speed<=80+n:\n",
    "        return \"small challan\"\n",
    "    else:\n",
    "        return \"heavy challan\"\n",
    "print(caught_speeding(81,True))"
   ]
  },
  {
   "cell_type": "code",
   "execution_count": 18,
   "id": "46ed064d",
   "metadata": {},
   "outputs": [
    {
     "name": "stdout",
     "output_type": "stream",
     "text": [
      "3\n"
     ]
    }
   ],
   "source": [
    "#answer 7\n",
    "def dog(a):\n",
    "    cout=0\n",
    "    for i in range(0,len(a)-2):\n",
    "        d=a[i]+a[i+1]+a[i+2]\n",
    "        if d==\"dog\":\n",
    "            cout=cout+1\n",
    "    return cout\n",
    "print(dog(\"dogdogdoggh\"))"
   ]
  },
  {
   "cell_type": "code",
   "execution_count": 20,
   "id": "86e55f28",
   "metadata": {},
   "outputs": [
    {
     "name": "stdout",
     "output_type": "stream",
     "text": [
      "False\n"
     ]
    }
   ],
   "source": [
    "#answer 6\n",
    "def dog(a):\n",
    "    \n",
    "    for i in range(0,len(a)-2):\n",
    "        d=a[i]+a[i+1]+a[i+2]\n",
    "        if d==\"dog\":\n",
    "            return True\n",
    "    return False\n",
    "print(dog(\"dggh\"))\n"
   ]
  },
  {
   "cell_type": "code",
   "execution_count": 21,
   "id": "b75cc1b8",
   "metadata": {},
   "outputs": [
    {
     "name": "stdout",
     "output_type": "stream",
     "text": [
      "domain.com\n"
     ]
    }
   ],
   "source": [
    "#naswer 5\n",
    "def website(a):\n",
    "    cout=0\n",
    "    ans=\"\"\n",
    "    for i in a:\n",
    "        if cout==1:\n",
    "            ans=ans+i\n",
    "        if i==\"@\":\n",
    "            cout=1\n",
    "    return ans\n",
    "print(website(\"user@domain.com\"))\n",
    "        "
   ]
  },
  {
   "cell_type": "code",
   "execution_count": 23,
   "id": "9cdfca0f",
   "metadata": {},
   "outputs": [
    {
     "name": "stdout",
     "output_type": "stream",
     "text": [
      "['Hi', 'there', 'class!']\n"
     ]
    }
   ],
   "source": [
    "#answer 1\n",
    "s = \"Hi there class!\"\n",
    "a=s.split(\" \")\n",
    "print(a)"
   ]
  },
  {
   "cell_type": "code",
   "execution_count": 24,
   "id": "c686e2e5",
   "metadata": {},
   "outputs": [
    {
     "name": "stdout",
     "output_type": "stream",
     "text": [
      "hello\n"
     ]
    }
   ],
   "source": [
    "#answer 4\n",
    "d = {'k1': [1, 2, 3, {'tricky': ['oh', 'man','inception', {'target': [1, 2, 3, 'hello']}]}]}\n",
    "\n",
    "print(d['k1'][3]['tricky'][3]['target'][3])"
   ]
  },
  {
   "cell_type": "code",
   "execution_count": 25,
   "id": "f4b99768",
   "metadata": {},
   "outputs": [
    {
     "name": "stdout",
     "output_type": "stream",
     "text": [
      "hello\n"
     ]
    }
   ],
   "source": [
    "#answer 3\n",
    "lst = [1, 2, [3, 4], [5, [100, 200, ['hello']], 23, 11], 1, 7]\n",
    "a=lst[3][1][2][0]\n",
    "print(a)"
   ]
  },
  {
   "cell_type": "code",
   "execution_count": 26,
   "id": "accea0b9",
   "metadata": {},
   "outputs": [
    {
     "name": "stdout",
     "output_type": "stream",
     "text": [
      "Enter planet:earth\n",
      "Enter diameter:40000\n",
      "The diameter of earth is 40000 kilometers.\n"
     ]
    }
   ],
   "source": [
    "#answer 2\n",
    "planet = (input(\"Enter planet:\"))\n",
    "diameter = int(input(\"Enter diameter:\"))\n",
    "b=planet\n",
    "c=diameter\n",
    "a = \"The diameter of {planet} is {diameter} kilometers.\".format(planet=b,diameter=c)\n",
    "print(a)"
   ]
  },
  {
   "cell_type": "code",
   "execution_count": 1,
   "id": "c8d75dd6",
   "metadata": {},
   "outputs": [
    {
     "name": "stdout",
     "output_type": "stream",
     "text": [
      "['soup', 'salad']\n"
     ]
    }
   ],
   "source": [
    "#answer  8\n",
    "sq=['soup','dog','salad','cat','great']\n",
    "filtered=filter(lambda word : word.startswith(\"s\" or \"S\"), sq)\n",
    "print(list(filtered))"
   ]
  },
  {
   "cell_type": "code",
   "execution_count": 7,
   "id": "1b800c68",
   "metadata": {},
   "outputs": [
    {
     "name": "stdout",
     "output_type": "stream",
     "text": [
      "dict_keys([1, 2, 4])\n",
      "{1: 8.9, 2: 5.6, 4: 6.7, 7: 9.1, 8: 5.3}\n"
     ]
    }
   ],
   "source": [
    "my_dict1 = {1:8.9, 2:5.6, 4:9.7}\n",
    "my_dict2 = {4:6.7, 7:9.1, 8:5.3}\n",
    "print(my_dict1.keys())\n",
    "my_dict1.update(my_dict2)\n",
    "print(my_dict1) "
   ]
  },
  {
   "cell_type": "code",
   "execution_count": null,
   "id": "c6e49443",
   "metadata": {},
   "outputs": [],
   "source": []
  },
  {
   "cell_type": "code",
   "execution_count": null,
   "id": "a51850a8",
   "metadata": {},
   "outputs": [],
   "source": []
  }
 ],
 "metadata": {
  "kernelspec": {
   "display_name": "Python 3 (ipykernel)",
   "language": "python",
   "name": "python3"
  },
  "language_info": {
   "codemirror_mode": {
    "name": "ipython",
    "version": 3
   },
   "file_extension": ".py",
   "mimetype": "text/x-python",
   "name": "python",
   "nbconvert_exporter": "python",
   "pygments_lexer": "ipython3",
   "version": "3.11.3"
  }
 },
 "nbformat": 4,
 "nbformat_minor": 5
}
